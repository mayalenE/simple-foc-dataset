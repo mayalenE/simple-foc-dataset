{
 "cells": [
  {
   "cell_type": "code",
   "execution_count": 15,
   "id": "bb690b32-4e4e-4264-a099-8d434005d09e",
   "metadata": {},
   "outputs": [],
   "source": [
    "save_raw_data = False\n",
    "save_data = True"
   ]
  },
  {
   "cell_type": "markdown",
   "id": "3018942b-72f2-46d4-9f38-b930633ad9b8",
   "metadata": {},
   "source": [
    "## Imports and Utils"
   ]
  },
  {
   "cell_type": "code",
   "execution_count": 16,
   "id": "f6cd1821-e168-4651-bbcf-beb17a4156a4",
   "metadata": {},
   "outputs": [],
   "source": [
    "from datetime import datetime as datetime_cls\n",
    "from itertools import groupby\n",
    "import os\n",
    "import pyarrow\n",
    "import pyarrow.parquet as pq\n",
    "from random import shuffle\n",
    "import urllib3"
   ]
  },
  {
   "cell_type": "markdown",
   "id": "b3e43c2e-1f6d-4bfe-9d82-e79f833f5ea3",
   "metadata": {},
   "source": [
    "## Load Raw Data"
   ]
  },
  {
   "cell_type": "code",
   "execution_count": 17,
   "id": "ca3d2b91-6d3c-4084-84b2-a56440cb5c35",
   "metadata": {},
   "outputs": [],
   "source": [
    "if save_raw_data:\n",
    "    \n",
    "    base_url = \"https://community.simplefoc.com/\"\n",
    "    for i in range(5000):\n",
    "        topic_url = base_url + f\"raw/{i}\"\n",
    "        resp = urllib3.request(\"GET\", topic_url)\n",
    "        if resp.status == 200:\n",
    "            raw_topic_fp = f\"raw_data/discourse/topic_{i}.txt\"\n",
    "            if not os.path.exists(raw_topic_fp):\n",
    "                with open(topic_raw_fp, \"w\") as f:\n",
    "                    f.write(resp.data.decode(\"utf-8\"))"
   ]
  },
  {
   "cell_type": "markdown",
   "id": "28e20bbb-d05a-44ff-8f50-6c26d348ca01",
   "metadata": {},
   "source": [
    "## Clean and save data in parquet format akin to [UltraChat 200k](https://huggingface.co/datasets/HuggingFaceH4/ultrachat_200k/tree/main) dataset"
   ]
  },
  {
   "cell_type": "code",
   "execution_count": 18,
   "id": "8898f82f-826a-4691-8630-f1e7d7c1d1f7",
   "metadata": {},
   "outputs": [],
   "source": [
    "topics = []\n",
    "for i in range(5000):\n",
    "    raw_topic_fp = f\"raw_data/discourse/topic_{i}.txt\"\n",
    "    \n",
    "    if os.path.exists(raw_topic_fp):\n",
    "        with open(raw_topic_fp, \"r\") as f:\n",
    "            raw_posts = f.read().split(\"\\n-------------------------\\n\")\n",
    "            \n",
    "        # remove empty posts\n",
    "        raw_posts.remove(\"\\n\")\n",
    "        \n",
    "        # remove topic with only one post\n",
    "        if len(raw_posts) <= 2:\n",
    "            continue\n",
    "        \n",
    "        # remove posts initial/last empty lines\n",
    "        raw_posts = [raw_post[1:] if raw_post[0]==\"\\n\" else raw_post for raw_post in raw_posts]\n",
    "        raw_posts = [raw_post[:-1] if raw_post[-1:]==\"\\n\" else raw_post for raw_post in raw_posts]\n",
    "\n",
    "        \n",
    "        # Prepare for parquet format\n",
    "        topic_prompt = None\n",
    "        topic_messages = []\n",
    "        discard_topic = False # will be set to true if the topic does not pass out filters\n",
    "        \n",
    "        for raw_post in raw_posts:\n",
    "            \n",
    "            # Isolate post role, username, date, number and content\n",
    "            username, datetime, number = raw_post.split(\"\\n\")[0].split(\"|\")\n",
    "            username = username.strip(\" \")\n",
    "            role = \"assistant\" if username in [\"Antun_Skuric\", \"runger\", \"Valentine\", \"Owen_Williams\", \"JorgeMaker\", \"David_Gonzalez\", \"o_lampe\", \"VIPQualityPost\", \"Grizzly\", \"Candas1\"] else \"user\"\n",
    "            datetime = datetime_cls.strptime(datetime.strip(\" UTC\"), '%Y-%m-%d %H:%M:%S')\n",
    "            number = int(number.strip(\" #\"))\n",
    "            content = \"\\n\".join(raw_post.split(\"\\n\")[2:])\n",
    "            #print(role, username, datetime, number, content)\n",
    "            \n",
    "            # filter 1: remove topics created by moderators\n",
    "            if number == 1 and role != \"user\":\n",
    "                discard_topic = False\n",
    "                break\n",
    "                \n",
    "            # if same username has provided several answers concatenate\n",
    "            if len(topic_messages) > 0 and topic_messages[-1][\"username\"] == username:\n",
    "                topic_messages[-1][\"content\"] += f\"\\n{content}\"\n",
    "            else:            \n",
    "                topic_messages.append({\"role\": role, \"username\": username, \"content\": content})\n",
    "        \n",
    "        if len(topic_messages) < 2:\n",
    "            discard_topic = True\n",
    "\n",
    "        if not discard_topic: \n",
    "            topics.append(topic_messages)\n",
    "        \n",
    "        # for the moment we consider only a dataset of 100 topics (80 for training, 20 for testing)\n",
    "        # if len(topics) == 100:\n",
    "        #     break"
   ]
  },
  {
   "cell_type": "code",
   "execution_count": 19,
   "id": "676a9fc1-713d-4136-895c-9e40387aaa9f",
   "metadata": {},
   "outputs": [
    {
     "name": "stdout",
     "output_type": "stream",
     "text": [
      "1299\n"
     ]
    }
   ],
   "source": [
    "print(len(topics))"
   ]
  },
  {
   "cell_type": "code",
   "execution_count": 14,
   "id": "99fa82c8-df5b-4433-b9a7-530766cfa6c5",
   "metadata": {},
   "outputs": [],
   "source": [
    "if save_data:\n",
    "\n",
    "    # train/test splits\n",
    "    n_topics = len(topics)\n",
    "    n_train = int(0.8*n_topics)\n",
    "    shuffle(topics)\n",
    "\n",
    "    # Save train and test splits in parquet format\n",
    "    train_table = pyarrow.Table.from_arrays([topics[:n_train]], names=[\"messages\"])\n",
    "    pq.write_table(train_table, 'data/train_sft.parquet')\n",
    "    test_table = pyarrow.Table.from_arrays([topics[n_train:]], names=[\"messages\"])\n",
    "    pq.write_table(test_table, 'data/test_sft.parquet')"
   ]
  },
  {
   "cell_type": "code",
   "execution_count": null,
   "id": "f5ce0178-21b5-42ac-b697-037195dc0454",
   "metadata": {},
   "outputs": [],
   "source": []
  }
 ],
 "metadata": {
  "kernelspec": {
   "display_name": "Python [conda env:dsketch]",
   "language": "python",
   "name": "conda-env-dsketch-py"
  },
  "language_info": {
   "codemirror_mode": {
    "name": "ipython",
    "version": 3
   },
   "file_extension": ".py",
   "mimetype": "text/x-python",
   "name": "python",
   "nbconvert_exporter": "python",
   "pygments_lexer": "ipython3",
   "version": "3.10.9"
  }
 },
 "nbformat": 4,
 "nbformat_minor": 5
}
